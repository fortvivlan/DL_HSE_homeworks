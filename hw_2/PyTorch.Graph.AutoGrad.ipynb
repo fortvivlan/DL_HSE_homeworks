{
 "cells": [
  {
   "cell_type": "markdown",
   "metadata": {},
   "source": [
    "# В конце этого семинара - домашка!"
   ]
  },
  {
   "cell_type": "markdown",
   "metadata": {},
   "source": [
    "# PyTorch"
   ]
  },
  {
   "cell_type": "markdown",
   "metadata": {},
   "source": [
    "## __Tensors__"
   ]
  },
  {
   "cell_type": "markdown",
   "metadata": {},
   "source": [
    "Одно из основных понятий в PyTorch -- это __Tenosor__. \n",
    "\n",
    "https://pytorch.org/docs/master/tensors.html\n",
    "\n",
    "__Tensor__ -- это такой же массив, как и в __numpy.array__, размерность и тип данных которого мы можем задать. Tensor в отличие от numpy.array может вычисляться на __GPU__."
   ]
  },
  {
   "cell_type": "code",
   "execution_count": 1,
   "metadata": {},
   "outputs": [],
   "source": [
    "import numpy as np\n",
    "import torch"
   ]
  },
  {
   "cell_type": "code",
   "execution_count": 2,
   "metadata": {},
   "outputs": [],
   "source": [
    "N = 100\n",
    "D_in = 50\n",
    "\n",
    "dtype = torch.float\n",
    "device = torch.device(\"cpu\")\n",
    "# device = torch.device(\"cuda:0\") # Uncomment this to run on GPU\n",
    "\n",
    "x = np.random.randn(N, D_in)\n",
    "x_torch = torch.randn(N, D_in, device=device, dtype=dtype)"
   ]
  },
  {
   "cell_type": "code",
   "execution_count": 3,
   "metadata": {},
   "outputs": [
    {
     "data": {
      "text/plain": [
       "array([[-0.03590312, -1.27655174, -0.44052684, ..., -0.43147624,\n",
       "        -0.25771107,  0.21286299],\n",
       "       [ 1.91601787,  0.74759333, -0.7333231 , ..., -0.73324062,\n",
       "         0.52327749, -0.87981242],\n",
       "       [ 0.7147454 ,  0.75085662,  1.02635125, ..., -0.15367271,\n",
       "        -0.81197602,  0.63982388],\n",
       "       ...,\n",
       "       [ 0.04861756,  0.14869406, -1.0271621 , ...,  1.8787875 ,\n",
       "        -1.0315354 , -1.01548184],\n",
       "       [ 0.86040269,  0.50469198,  0.46516521, ..., -0.19889741,\n",
       "         1.18849519,  1.0904733 ],\n",
       "       [-1.60123939,  0.95751774, -0.31545188, ..., -0.39356475,\n",
       "        -0.81519704, -1.56058633]])"
      ]
     },
     "execution_count": 3,
     "metadata": {},
     "output_type": "execute_result"
    }
   ],
   "source": [
    "x"
   ]
  },
  {
   "cell_type": "code",
   "execution_count": 4,
   "metadata": {},
   "outputs": [
    {
     "data": {
      "text/plain": [
       "tensor([[ 1.6057,  0.7498,  0.3816,  ..., -0.4781,  0.2219,  0.9126],\n",
       "        [-1.0428, -0.0726, -0.8711,  ...,  0.3939,  0.4245,  2.5646],\n",
       "        [-1.7572,  1.1117, -0.7665,  ..., -0.8055, -0.0551,  1.0070],\n",
       "        ...,\n",
       "        [-0.5492, -0.3966,  0.3215,  ...,  0.0224,  0.9706, -0.9049],\n",
       "        [ 0.3233, -1.0059, -0.5393,  ...,  0.2989,  0.8244, -1.2695],\n",
       "        [ 0.0388, -0.2677, -0.7803,  ...,  0.1279,  0.0583,  0.9630]])"
      ]
     },
     "execution_count": 4,
     "metadata": {},
     "output_type": "execute_result"
    }
   ],
   "source": [
    "x_torch"
   ]
  },
  {
   "cell_type": "code",
   "execution_count": 5,
   "metadata": {},
   "outputs": [
    {
     "data": {
      "text/plain": [
       "tensor([[1., 1., 1.,  ..., 1., 1., 1.],\n",
       "        [1., 1., 1.,  ..., 1., 1., 1.],\n",
       "        [1., 1., 1.,  ..., 1., 1., 1.],\n",
       "        ...,\n",
       "        [1., 1., 1.,  ..., 1., 1., 1.],\n",
       "        [1., 1., 1.,  ..., 1., 1., 1.],\n",
       "        [1., 1., 1.,  ..., 1., 1., 1.]])"
      ]
     },
     "execution_count": 5,
     "metadata": {},
     "output_type": "execute_result"
    }
   ],
   "source": [
    "x_torch = torch.Tensor(np.ones((N, D_in)))\n",
    "x_torch"
   ]
  },
  {
   "cell_type": "code",
   "execution_count": 6,
   "metadata": {},
   "outputs": [
    {
     "data": {
      "text/plain": [
       "tensor([1., 2., 3.])"
      ]
     },
     "execution_count": 6,
     "metadata": {},
     "output_type": "execute_result"
    }
   ],
   "source": [
    "x_torch = torch.FloatTensor([1, 2, 3])\n",
    "x_torch"
   ]
  },
  {
   "cell_type": "code",
   "execution_count": 7,
   "metadata": {},
   "outputs": [],
   "source": [
    "x1 = torch.IntTensor([1, 2, 3])\n",
    "x2 = torch.FloatTensor([3, 4, 5])"
   ]
  },
  {
   "cell_type": "code",
   "execution_count": 8,
   "metadata": {},
   "outputs": [
    {
     "name": "stdout",
     "output_type": "stream",
     "text": [
      "tensor([1, 2, 3], dtype=torch.int32)\n",
      "tensor([3., 4., 5.])\n"
     ]
    }
   ],
   "source": [
    "print(x1)\n",
    "print(x2)"
   ]
  },
  {
   "cell_type": "markdown",
   "metadata": {},
   "source": [
    "В PyTorch можно найти много операций, которые похожи на то, что есть в numpy :\n",
    "```\n",
    "- torch.add (np.add) -> сложение тензоров (поэлементное)\n",
    "- torch.sub (np.subtract) -> вычитание (поэлементное)\n",
    "- torch.mul (np.multiply) -> умнажение скаляров / матриц (поэлементное)\n",
    "- torch.mm (np.matmul) -> перемножение матриц\n",
    "- torch.ones (np.ones) -> создание тензора из единиц\n",
    "```"
   ]
  },
  {
   "cell_type": "code",
   "execution_count": 15,
   "metadata": {},
   "outputs": [],
   "source": [
    "# Давайте попробуем вышепересчисленные операции"
   ]
  },
  {
   "cell_type": "code",
   "execution_count": 9,
   "metadata": {},
   "outputs": [],
   "source": [
    "x1 = torch.FloatTensor([[1, 2, 3], [4, 5, 6]])"
   ]
  },
  {
   "cell_type": "code",
   "execution_count": 10,
   "metadata": {},
   "outputs": [],
   "source": [
    "x2 = torch.FloatTensor([[7, 8], [9, 1], [2, 3]])"
   ]
  },
  {
   "cell_type": "code",
   "execution_count": 11,
   "metadata": {},
   "outputs": [
    {
     "data": {
      "text/plain": [
       "tensor([[31., 19.],\n",
       "        [85., 55.]])"
      ]
     },
     "execution_count": 11,
     "metadata": {},
     "output_type": "execute_result"
    }
   ],
   "source": [
    "out = torch.mm(x1, x2)\n",
    "out"
   ]
  },
  {
   "cell_type": "markdown",
   "metadata": {},
   "source": [
    "```\n",
    "- torch.view (np.reshape) -> изменения порядка элементов в тензоре, не путать с транспонированием.\n",
    "```"
   ]
  },
  {
   "cell_type": "markdown",
   "metadata": {},
   "source": [
    "## Dynamic Computational Graph"
   ]
  },
  {
   "cell_type": "markdown",
   "metadata": {},
   "source": [
    "После того, как были реализованы архитектура модели и весь процес обучения и валидация сети, при запуске кода в PyTorch происходят следующие этапы:"
   ]
  },
  {
   "cell_type": "markdown",
   "metadata": {},
   "source": [
    "1. Строится вычислительный граф (направленный ациклический граф), где каждое ребро, ведущее к дргуому узлу, -- это тензор, а узел - это выполнение операции над данным тензором."
   ]
  },
  {
   "cell_type": "markdown",
   "metadata": {},
   "source": [
    "<img src=\"./images/Graph.png\" alt=\"Drawing\" style=\"width: 300px;\"/>"
   ]
  },
  {
   "cell_type": "markdown",
   "metadata": {},
   "source": [
    "Реализуем двухслойную сеть для задачи регрессии. И граф для такой архитектуры бдует выглядить следующим образом:"
   ]
  },
  {
   "cell_type": "markdown",
   "metadata": {},
   "source": [
    "<img src=\"./images/RegGraph.png\" alt=\"Drawing\" />"
   ]
  },
  {
   "cell_type": "code",
   "execution_count": 3,
   "metadata": {},
   "outputs": [],
   "source": [
    "batch_size = 64\n",
    "input_size = 3\n",
    "hidden_size = 2\n",
    "output_size = 1"
   ]
  },
  {
   "cell_type": "code",
   "execution_count": 18,
   "metadata": {},
   "outputs": [
    {
     "name": "stdout",
     "output_type": "stream",
     "text": [
      "Loss on iteration 99 = 68.03770446777344\n",
      "Loss on iteration 199 = 67.95539855957031\n",
      "Loss on iteration 299 = 67.87477111816406\n",
      "Loss on iteration 399 = 67.79576110839844\n",
      "Loss on iteration 499 = 67.71833801269531\n"
     ]
    }
   ],
   "source": [
    "# Create random input and output data\n",
    "x = torch.randn(batch_size, input_size, device=device, dtype=dtype)\n",
    "y = torch.randn(batch_size, output_size, device=device, dtype=dtype)\n",
    "\n",
    "# Randomly initialize weights\n",
    "w1 = torch.randn(input_size, hidden_size, device=device, dtype=dtype)\n",
    "w2 = torch.randn(hidden_size, output_size, device=device, dtype=dtype)\n",
    "\n",
    "learning_rate = 1e-6\n",
    "for t in range(500):\n",
    "    h_1 = x.mm(w1)\n",
    "    h_relu = h_1.clamp(min=0)\n",
    "    out = h_relu.mm(w2)\n",
    "\n",
    "    loss = (out - y).pow(2).sum().item() #MSE\n",
    "\n",
    "    dloss_out = 2 * (out - y)  # первая производная по лоссу\n",
    "\n",
    "    grad_w2 = h_relu.t().mm(dloss_out)\n",
    "    grad_hrelu = dloss_out.mm(w2.t())\n",
    "    grad_hrelu[h_1 < 0] = 0\n",
    "    grad_w1 = x.t().mm(grad_hrelu)\n",
    " \n",
    "    w1 -= learning_rate * grad_w1\n",
    "    w2 -= learning_rate * grad_w2\n",
    "    if t % 100 == 99:\n",
    "        print('Loss on iteration {} = {}'.format(t, loss))\n",
    "    "
   ]
  },
  {
   "cell_type": "code",
   "execution_count": 5,
   "metadata": {},
   "outputs": [
    {
     "data": {
      "text/plain": [
       "137.5653076171875"
      ]
     },
     "execution_count": 5,
     "metadata": {},
     "output_type": "execute_result"
    }
   ],
   "source": [
    "loss"
   ]
  },
  {
   "cell_type": "markdown",
   "metadata": {},
   "source": [
    "## Autograd"
   ]
  },
  {
   "cell_type": "markdown",
   "metadata": {},
   "source": [
    "2. Еще одно фундаментальное понятие и важный элемент при построении графа -- это __Autograd__ -- автоматическое дифференцирование.\n",
    "\n",
    "Для того чтобы с помощью стохастического градиентного спуска обновить обучаемые параметры сети, нужно посчитать градиенты. И как известно, обновление весов, которые учавтсвуют в нескольких операциях, происходит по `правилу дифференцирования сложной функции` (цепное правило или __chain rule__)."
   ]
  },
  {
   "cell_type": "markdown",
   "metadata": {},
   "source": [
    "<img src=\"./images/RegChainRule.png\" alt=\"Drawing\" />"
   ]
  },
  {
   "cell_type": "markdown",
   "metadata": {},
   "source": [
    "То есть (1) вычислительный граф позволяет определить последовательность операций, а (2) автоматическое дифференцирование посчитать нужные градиенты."
   ]
  },
  {
   "cell_type": "markdown",
   "metadata": {},
   "source": [
    "Если бы `Autograd` не было, то тогда backprop надо было бы реализовывать самим, и как это бы выглядело?"
   ]
  },
  {
   "cell_type": "markdown",
   "metadata": {},
   "source": [
    "Рассмотрим на примере, как посчиать градиенты для весов из входного слоя, где входной вектора `X` состоит из 3-х компонент. А входной слой вторую размерность имеет равной 2. \n",
    "\n",
    "После чего это идет в `ReLU`, но для простоты опустим на время ее, и посмотрим как дальше это идет по сети.\n",
    "\n",
    "Ниже написано, как это все вычисляется и приводит нас к значению целевой функции для одного наблюдения"
   ]
  },
  {
   "cell_type": "markdown",
   "metadata": {},
   "source": [
    "<img src=\"./images/1.png\" alt=\"1\" style=\"width: 600px;\"/>"
   ]
  },
  {
   "cell_type": "markdown",
   "metadata": {},
   "source": [
    "Тогда, чтобы посчитать градиент по первому элементу из обучаемой матрицы на первом слое, необходимо взять производоную у сложной функции. А этот как раз делается по `chain rule`: сначала берем у внешней, потом спускаемся на уровень ниже, и так пока не додйдем до то функции, после которой эта перменная уже нигде не участвует:"
   ]
  },
  {
   "cell_type": "markdown",
   "metadata": {},
   "source": [
    "<img src=\"./images/2.png\" alt=\"2\" style=\"width: 400px;\"/>"
   ]
  },
  {
   "cell_type": "markdown",
   "metadata": {},
   "source": [
    "Перепишем это все в матричном виде, то есть сделаем аналог вида матрицы весов из первого слоя, но там уже будут её градиенты, котоыре будут нужны чтобы как раз обновить эти веса:"
   ]
  },
  {
   "cell_type": "markdown",
   "metadata": {},
   "source": [
    "<img src=\"./images/3.jpg\" alt=\"3\" style=\"width: 600px;\"/>"
   ]
  },
  {
   "cell_type": "markdown",
   "metadata": {},
   "source": [
    "Как видно, здесь можно вектор X вынести, то есть разделить на две матрицы:"
   ]
  },
  {
   "cell_type": "markdown",
   "metadata": {},
   "source": [
    "<img src=\"./images/4.jpg\" alt=\"4\" style=\"width: 500px;\"/>"
   ]
  },
  {
   "cell_type": "markdown",
   "metadata": {},
   "source": [
    "То есть уже видно, что будем траспонировать входной вектор(матрицу). Но надо понимать, что в реальности у нас не одно наблюдение в батче, а несколько, тогда запись немного изменит свой вид:"
   ]
  },
  {
   "cell_type": "markdown",
   "metadata": {},
   "source": [
    "<img src=\"./images/5.jpg\" alt=\"5\" style=\"width: 500px;\"/>"
   ]
  },
  {
   "cell_type": "markdown",
   "metadata": {},
   "source": [
    "Теперь мы видим, как на самом деле вычисляется вот те самые частные производные для вектора X, то есть видно, как математически это можно записать, а именно:"
   ]
  },
  {
   "cell_type": "markdown",
   "metadata": {},
   "source": [
    "<img src=\"./images/6.jpg\" alt=\"6\" style=\"width: 500px;\"/>"
   ]
  },
  {
   "cell_type": "markdown",
   "metadata": {},
   "source": [
    "<img src=\"./images/7.jpg\" alt=\"7\" style=\"width: 500px;\"/>"
   ]
  },
  {
   "cell_type": "markdown",
   "metadata": {},
   "source": [
    "Уже можно реализовать. Понятно, что транспонируется, что нет, и что на что умножается."
   ]
  },
  {
   "cell_type": "markdown",
   "metadata": {},
   "source": [
    "Но помним про ReLU. Для простоты опустили, но теперь её учесть будет легче. \n",
    "\n",
    "Так как после первого слоя идет ReLU, а значит, занулились те выходы первого слоя, которые были __меньше__ нуля. Получается, что во второй слой не все дошло, тогда нужно обнулить, что занулил ReLU. \n",
    "\n",
    "Что занулил ReLU, мы можем выяснить при `forward pass`, а где именно поставить нули, то надо уже смотреть относительно `backward propagation`, на том выходе, где последний раз участвовал выход после ReLU, то есть:"
   ]
  },
  {
   "cell_type": "markdown",
   "metadata": {},
   "source": [
    "<img src=\"./images/8.jpg\" alt=\"8\" style=\"width: 600px;\"/>"
   ]
  },
  {
   "cell_type": "markdown",
   "metadata": {},
   "source": [
    "Благодаря `Autograd` реализацию `chain rule` можно избежать, так как для более сложных нейронных сетей вручную такое реализовать сложно, при этом сделать это эффективным."
   ]
  },
  {
   "cell_type": "markdown",
   "metadata": {},
   "source": [
    "Для того чтобы PyTorch понял, за какими переменными надо \"следить\", то есть указать, что именно \"эти\" переменные являются обучаемыми, необходимо при создании тензора в качестве аттрибута указать __requires_grad=True__:"
   ]
  },
  {
   "cell_type": "code",
   "execution_count": 30,
   "metadata": {},
   "outputs": [],
   "source": [
    "w1 = torch.randn(input_size, hidden_size, device=device, dtype=dtype, requires_grad=True)\n",
    "w2 = torch.randn(hidden_size, output_size, device=device, dtype=dtype, requires_grad=True)"
   ]
  },
  {
   "cell_type": "code",
   "execution_count": 31,
   "metadata": {},
   "outputs": [
    {
     "name": "stdout",
     "output_type": "stream",
     "text": [
      "99 74.82247161865234\n",
      "199 74.29219055175781\n",
      "299 73.80789184570312\n",
      "399 73.3653793334961\n",
      "499 72.96089935302734\n"
     ]
    }
   ],
   "source": [
    "learning_rate = 1e-6\n",
    "for t in range(500):\n",
    "    y_pred = x.mm(w1).clamp(min=0).mm(w2)\n",
    "\n",
    "    loss = (y_pred - y).pow(2).sum()\n",
    "    if t % 100 == 99:\n",
    "        print(t, loss.item())\n",
    "    \n",
    "    # Теперь подсчет градиентов для весов происходит при вызове backward\n",
    "    loss.backward()\n",
    "   \n",
    "    # Обновляем значение весов, но укзаываем, чтобы PyTorch не считал эту операцию, \n",
    "    # которая бы учавствовала бы при подсчете градиентов в chain rule\n",
    "    with torch.no_grad():\n",
    "        w1 -= learning_rate * w1.grad\n",
    "        w2 -= learning_rate * w2.grad\n",
    "        \n",
    "        # Теперь обнуляем значение градиентов, чтобы на следующем шаге \n",
    "        # они не учитывались при подсчете новых градиентов,\n",
    "        # иначе произойдет суммирвоание старых и новых градиентов\n",
    "        w1.grad.zero_()\n",
    "        w2.grad.zero_()"
   ]
  },
  {
   "cell_type": "markdown",
   "metadata": {},
   "source": [
    "Осталось еще не вручную обновлять веса, а использовать адаптивные методы градинетного спсука. Для этого нужно использовать модуль __optim__. А помимо оптимайзера, еще можно использовать готовые целевые функции из модлуя __nn__."
   ]
  },
  {
   "cell_type": "code",
   "execution_count": 32,
   "metadata": {},
   "outputs": [
    {
     "name": "stdout",
     "output_type": "stream",
     "text": [
      "99 72.94839477539062\n",
      "199 72.93968963623047\n",
      "299 72.93099212646484\n",
      "399 72.92241668701172\n",
      "499 72.91392517089844\n"
     ]
    }
   ],
   "source": [
    "import torch.optim as optim\n",
    "\n",
    "loss_fn = torch.nn.MSELoss(reduction='sum')\n",
    "\n",
    "learning_rate = 1e-6\n",
    "optimizer = torch.optim.Adam([w1, w2], lr=learning_rate)\n",
    "\n",
    "for t in range(500):\n",
    "    optimizer.zero_grad()\n",
    "    \n",
    "    y_pred = x.mm(w1).clamp(min=0).mm(w2)\n",
    "    \n",
    "    loss = loss_fn(y_pred, y)\n",
    "    if t % 100 == 99:\n",
    "        print(t, loss.item())\n",
    "    \n",
    "    loss.backward()\n",
    "   \n",
    "    optimizer.step()"
   ]
  },
  {
   "cell_type": "markdown",
   "metadata": {},
   "source": [
    "После того, как мы сделали backward, в этот момент посчитались градиенты и граф уничтожился, то есть стёрлись все пути, которые связывали тензоры между собой. Это значит, что еще раз backward сделать не поулчится, будет ошибка. Но если вдруг нужно считать градиенты еще раз, то нужно при вызове backward задать `retain_graph=True`."
   ]
  },
  {
   "cell_type": "markdown",
   "metadata": {},
   "source": [
    "Еще важный аттрибут, который есть у Tensor -- это `grad_fn`. В этом аттрибуте указывается та функция, посредством которой был создан этот тензор. Так PyTorch понимает, как именно считать по нему градиент."
   ]
  },
  {
   "cell_type": "code",
   "execution_count": 33,
   "metadata": {},
   "outputs": [
    {
     "data": {
      "text/plain": [
       "<MmBackward0 at 0x7f803a3a1e50>"
      ]
     },
     "execution_count": 33,
     "metadata": {},
     "output_type": "execute_result"
    }
   ],
   "source": [
    "y_pred.grad_fn"
   ]
  },
  {
   "cell_type": "markdown",
   "metadata": {},
   "source": [
    "Также можно контролировать, должны ли градиенты течь или нет."
   ]
  },
  {
   "cell_type": "code",
   "execution_count": 37,
   "metadata": {},
   "outputs": [
    {
     "data": {
      "text/plain": [
       "True"
      ]
     },
     "execution_count": 37,
     "metadata": {},
     "output_type": "execute_result"
    }
   ],
   "source": [
    "x = torch.tensor([1.], requires_grad=True)\n",
    "with torch.no_grad():\n",
    "    with torch.enable_grad():\n",
    "        y = x * 2\n",
    "y.requires_grad"
   ]
  },
  {
   "cell_type": "markdown",
   "metadata": {},
   "source": [
    "## Почему Backprop надо понимать"
   ]
  },
  {
   "cell_type": "markdown",
   "metadata": {},
   "source": [
    "1. Backprop позволяет понимать, как те или иные операции, сложные конструкции в сети влияют на обнолвение весов.\n",
    "Почему лучше сделать конкатенацию тензоров, а не поэлементное сложение. Для этого нужно посмотреть на backprop, как будут обновляться веса.\n",
    "\n",
    "2. Даже на таком маленьком пример двуслойной MLP можно уже увидеть, когда `ReLU`, как функция активация, не очень хорошо применять. Если разреженные данные, то получить на выходе много нулей вероятнее, чем при использовании `LeakyReLU`, то есть градиенты будут нулевыми и веса никак не будут обновляться => сеть не обучается!\n",
    "\n",
    "3. В архитектуре могут встречаться недифференцируемые операции, и первое - это нужно понять, потому что при обучении сети это может быть не сразу заметно, просто качество модели будет плохое, и точность хорошую не поулчится достичь.\n",
    "\n",
    "Например, в одной из статей было предложено в качестве механизма внимания применить распределение Бернулли, которое умножается на выход промежуточного слоя сети. И эта опреация недифференцируема, нужно реализовывать backprop самим, тем самым обеспечить корректное протекание градиентов.\n"
   ]
  },
  {
   "cell_type": "markdown",
   "metadata": {},
   "source": [
    "<img src=\"./images/Bernoulli.png\" alt=\"8\" style=\"width: 600px;\"/>"
   ]
  },
  {
   "cell_type": "markdown",
   "metadata": {},
   "source": [
    "Так же любая статья, которая предлагет новую целевую функцию для той или иной задачи, там всегда будут представлены градиенты, чтобы было понимание, как это влияет на обновление весов. Не просто так !"
   ]
  },
  {
   "cell_type": "markdown",
   "metadata": {},
   "source": [
    "<img src=\"./images/BernoulliBackProp.png\" alt=\"8\" style=\"width: 600px;\"/>"
   ]
  },
  {
   "cell_type": "markdown",
   "metadata": {},
   "source": [
    "## nn.Module"
   ]
  },
  {
   "cell_type": "markdown",
   "metadata": {},
   "source": [
    "В предыдущем примере архитектуру сети создавали используя последовательной способ объявления слоев сети -- `nn.Sequential`.\n",
    "\n",
    "Но еще можно это сделать более гибким подходом:"
   ]
  },
  {
   "cell_type": "code",
   "execution_count": null,
   "metadata": {},
   "outputs": [],
   "source": [
    "class TwoLayerNet(nn.Module):\n",
    "    def __init__(self, input_size, hidden_size, output_size):\n",
    "        \"\"\"\n",
    "        TwoLayerNet наследуется от nn.Module и тем самым полчаем возможность\n",
    "        переопределять методы класса.\n",
    "        В конструктуре создаем слои (обучаемые веса) и другие нужные перменные/функции,\n",
    "        которые нужны для модели\n",
    "        \"\"\"\n",
    "        super(TwoLayerNet, self).__init__()\n",
    "        self.linear1 = torch.nn.Linear(input_size, hidden_size)\n",
    "        self.linear2 = torch.nn.Linear(hidden_size, output_size)\n",
    "\n",
    "    def forward(self, x):\n",
    "        \"\"\"\n",
    "        Метод forward отвечает за прямое распростронение модели, \n",
    "        поэтому данный метод нужно переопределять обязательно, \n",
    "        чтобы задать логику прямого распростронения. \n",
    "        Именно в этот момент начинает строится динамический граф\n",
    "        \"\"\"\n",
    "        h_relu = self.linear1(x).clamp(min=0)\n",
    "        y_pred = self.linear2(h_relu)\n",
    "        \n",
    "        return y_pred"
   ]
  },
  {
   "cell_type": "code",
   "execution_count": null,
   "metadata": {},
   "outputs": [],
   "source": [
    "batch_size = 64\n",
    "input_size = 1000\n",
    "hidden_size = 100\n",
    "output_size = 10\n",
    "\n",
    "x = torch.randn(batch_size, input_size, device=device, dtype=dtype)\n",
    "y = torch.randn(batch_size, output_size, device=device, dtype=dtype)\n",
    "\n",
    "model = TwoLayerNet(Dinput_size_in, hidden_size, output_size)\n",
    "\n",
    "loss_fn = torch.nn.MSELoss(reduction='sum')\n",
    "optimizer = torch.optim.SGD(model.parameters(), lr=1e-4)\n",
    "\n",
    "for t in range(500):\n",
    "    y_pred = model(x)\n",
    "\n",
    "    loss = loss_fn(y_pred, y)\n",
    "    if t % 100 == 99:\n",
    "        print(t, loss.item())\n",
    "\n",
    "    optimizer.zero_grad()\n",
    "    loss.backward()\n",
    "    optimizer.step()"
   ]
  },
  {
   "cell_type": "markdown",
   "metadata": {},
   "source": [
    "# Домашние задание"
   ]
  },
  {
   "cell_type": "markdown",
   "metadata": {},
   "source": [
    "1. Добавить Bias и посчитать для них градиенты.\n",
    "2. Сравнить градинеты с тем, как считает PyTorch AutoGrad."
   ]
  },
  {
   "cell_type": "markdown",
   "metadata": {},
   "source": [
    "Рассчитаем градиенты:\n",
    "\n",
    "$h_1 = x \\cdot w_1 + b_1$\n",
    "\n",
    "$h_r = ReLU(h_1)$\n",
    "\n",
    "$L = (y - out)^2$\n",
    "\n",
    "Для Loss:\n",
    "\n",
    "$ \\frac{\\partial L} {\\partial out}  = 2 \\cdot (out - y)$\n",
    "\n",
    "Для $w_2$ и $b_2$:\n",
    "\n",
    "$ \\frac {\\partial L} {\\partial w_2} = \\frac {\\partial L} {\\partial out} \\cdot \\frac {\\partial out} {\\partial w_2} = 2 \\cdot (out - y) \\cdot h_r^T$\n",
    "\n",
    "$ \\frac {\\partial L} {\\partial b_2} = \\frac {\\partial L} {\\partial out} \\cdot \\frac {\\partial out} {\\partial b_2} = 2 \\cdot (out - y) \\cdot 1 $ &ndash; так как производная по $b_2$ = $ (const) + \\textcolor{red}{b_2} = 1$\n",
    "\n",
    "Для $w_1$ и $b_1$:\n",
    "\n",
    "$\\frac {\\partial L} {\\partial w_1} = \\frac {\\partial L} {\\partial out} \\cdot \\frac {\\partial out} {\\partial h_r} \\cdot \\frac {\\partial h_r} {\\partial h_1} \\cdot \\frac {\\partial h_1} {\\partial w_1} = 2 \\cdot (out - y) \\cdot \\frac {\\partial out} {\\partial h_r} \\cdot \\frac {\\partial h_r} {\\partial h_1} \\cdot x^T $\n",
    "\n",
    "$\\frac {\\partial L} {\\partial w_1} = \\frac {\\partial L} {\\partial out} \\cdot \\frac {\\partial out} {\\partial h_r} \\cdot \\frac {\\partial h_r} {\\partial h_1} \\cdot \\frac {\\partial h_1} {\\partial w_1} = 2 \\cdot (out - y) \\cdot \\frac {\\partial out} {\\partial h_r} \\cdot \\frac {\\partial h_r} {\\partial h_1} \\cdot 1 $ &ndash; так как производная по $b_1$ тоже = $(const) + \\textcolor{red}{b_1} = 1$"
   ]
  },
  {
   "cell_type": "code",
   "execution_count": null,
   "metadata": {},
   "outputs": [],
   "source": [
    "batch_size = 64\n",
    "input_size = 3\n",
    "hidden_size = 2\n",
    "output_size = 1"
   ]
  },
  {
   "cell_type": "markdown",
   "metadata": {},
   "source": [
    "*Извините за дурацкую инициализацию весов, ничего лучше не придумалось.....*"
   ]
  },
  {
   "cell_type": "code",
   "execution_count": 39,
   "metadata": {},
   "outputs": [],
   "source": [
    "# Common random weights\n",
    "w1_common = torch.randn(input_size, hidden_size, device=device, dtype=dtype)\n",
    "b1_common = torch.randn(batch_size, hidden_size, device=device, dtype=dtype)\n",
    "w2_common = torch.randn(hidden_size, output_size, device=device, dtype=dtype)\n",
    "b2_common = torch.randn(batch_size, output_size, device=device, dtype=dtype)"
   ]
  },
  {
   "cell_type": "code",
   "execution_count": 40,
   "metadata": {},
   "outputs": [
    {
     "name": "stdout",
     "output_type": "stream",
     "text": [
      "Loss on iteration 99 = 132.50535583496094\n",
      "Loss on iteration 199 = 130.90997314453125\n",
      "Loss on iteration 299 = 129.5211639404297\n",
      "Loss on iteration 399 = 128.3069610595703\n",
      "Loss on iteration 499 = 127.24038696289062\n"
     ]
    }
   ],
   "source": [
    "# Create random input and output data\n",
    "x = torch.randn(batch_size, input_size, device=device, dtype=dtype)\n",
    "y = torch.randn(batch_size, output_size, device=device, dtype=dtype)\n",
    "\n",
    "# Randomly initialize weights\n",
    "w1 = w1_common.clone()\n",
    "b1 = b1_common.clone()\n",
    "w2 = w2_common.clone()\n",
    "b2 = b2_common.clone()\n",
    "\n",
    "learning_rate = 1e-6\n",
    "for t in range(500):\n",
    "    h_1 = x.mm(w1) + b1\n",
    "    h_relu = h_1.clamp(min=0)\n",
    "    out = h_relu.mm(w2) + b2\n",
    "\n",
    "    loss = (out - y).pow(2).sum().item() #MSE\n",
    "\n",
    "    dloss_dout = 2 * (out - y)  # первая производная по лоссу\n",
    "\n",
    "    grad_w2 = h_relu.t().mm(dloss_dout)\n",
    "    grad_b2 = dloss_dout\n",
    "    grad_hrelu = dloss_dout.mm(w2.t())\n",
    "    grad_hrelu[h_1 < 0] = 0\n",
    "    grad_w1 = x.t().mm(grad_hrelu)\n",
    "    grad_b1 = grad_hrelu\n",
    " \n",
    "    w1 -= learning_rate * grad_w1\n",
    "    w2 -= learning_rate * grad_w2\n",
    "    b1 -= learning_rate * grad_b1\n",
    "    b2 -= learning_rate * grad_b2\n",
    "    if t % 100 == 99:\n",
    "        print('Loss on iteration {} = {}'.format(t, loss))\n",
    "    "
   ]
  },
  {
   "cell_type": "markdown",
   "metadata": {},
   "source": [
    "### PyTorch AutoGrad"
   ]
  },
  {
   "cell_type": "code",
   "execution_count": 46,
   "metadata": {},
   "outputs": [],
   "source": [
    "w1 = w1_common.clone()\n",
    "b1 = b1_common.clone()\n",
    "w2 = w2_common.clone()\n",
    "b2 = b2_common.clone()\n",
    "w1.requires_grad=True\n",
    "b1.requires_grad=True\n",
    "w2.requires_grad=True\n",
    "b2.requires_grad=True"
   ]
  },
  {
   "cell_type": "code",
   "execution_count": 47,
   "metadata": {},
   "outputs": [
    {
     "name": "stdout",
     "output_type": "stream",
     "text": [
      "99 132.50535583496094\n",
      "199 130.90997314453125\n",
      "299 129.5211639404297\n",
      "399 128.3069610595703\n",
      "499 127.24038696289062\n"
     ]
    }
   ],
   "source": [
    "import torch.optim as optim\n",
    "\n",
    "loss_fn = torch.nn.MSELoss(reduction='sum')\n",
    "\n",
    "learning_rate = 1e-6\n",
    "optimizer = torch.optim.SGD([w1, w2, b1, b2], lr=learning_rate)\n",
    "\n",
    "for t in range(500):\n",
    "    optimizer.zero_grad()\n",
    "    \n",
    "    y_pred = (x.mm(w1) + b1).clamp(min=0).mm(w2) + b2\n",
    "    \n",
    "    loss = loss_fn(y_pred, y)\n",
    "    if t % 100 == 99:\n",
    "        print(t, loss.item())\n",
    "    \n",
    "    loss.backward()\n",
    "   \n",
    "    optimizer.step()"
   ]
  }
 ],
 "metadata": {
  "kernelspec": {
   "display_name": "Python 3.8.10 64-bit",
   "language": "python",
   "name": "python3"
  },
  "language_info": {
   "codemirror_mode": {
    "name": "ipython",
    "version": 3
   },
   "file_extension": ".py",
   "mimetype": "text/x-python",
   "name": "python",
   "nbconvert_exporter": "python",
   "pygments_lexer": "ipython3",
   "version": "3.8.10"
  },
  "vscode": {
   "interpreter": {
    "hash": "6eb9e1cf2af2cf6251f1c932a803c6b2f25b1e2cfa2de873853bae064510a498"
   }
  }
 },
 "nbformat": 4,
 "nbformat_minor": 4
}
